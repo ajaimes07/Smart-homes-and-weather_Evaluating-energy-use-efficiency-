{
 "cells": [
  {
   "cell_type": "code",
   "execution_count": 1,
   "metadata": {},
   "outputs": [],
   "source": [
    "# Title:     SmartHome Dataset\n",
    "# Authors:   Aline J\n",
    "# Date:      01/06/2020\n",
    "# Goal:      Analyze and predict energy use efficiency \n",
    "#            in a smarthouse during a year under variable weather conditions.\n",
    "\n",
    "# Questions: \n",
    "# 1) What are the variables that control generated energy? \n",
    "# 2) What are the variables that control used energy? \n",
    "# 3) What are the variables that control energy efficiency?\n",
    "\n",
    "# Method. Unsupervised Machine learning Method, specifically random forest regression analysis.\n",
    "# Results: Used CleanData\n",
    "#         Several attempts to run the analysis were done at differen frequencies. \n",
    "#         Only Monthly frequency data resulted the highest accuracy (76%) vs Minute data (0.01%).  \n",
    "#         The minimum random state of 50, were enough to explain the variability in the dataset.  \n",
    "#         The same accuracy was yield when running random state of 1000.\n"
   ]
  },
  {
   "cell_type": "code",
   "execution_count": 2,
   "metadata": {},
   "outputs": [
    {
     "name": "stdout",
     "output_type": "stream",
     "text": [
      "Requirement already up-to-date: sklearn in c:\\programdata\\anaconda3\\lib\\site-packages (0.0)\n",
      "Requirement already satisfied, skipping upgrade: scikit-learn in c:\\programdata\\anaconda3\\lib\\site-packages (from sklearn) (0.21.2)\n",
      "Requirement already satisfied, skipping upgrade: joblib>=0.11 in c:\\programdata\\anaconda3\\lib\\site-packages (from scikit-learn->sklearn) (0.13.2)\n",
      "Requirement already satisfied, skipping upgrade: scipy>=0.17.0 in c:\\programdata\\anaconda3\\lib\\site-packages (from scikit-learn->sklearn) (1.2.1)\n",
      "Requirement already satisfied, skipping upgrade: numpy>=1.11.0 in c:\\programdata\\anaconda3\\lib\\site-packages (from scikit-learn->sklearn) (1.16.4)\n"
     ]
    }
   ],
   "source": [
    "### Begins Here ####\n",
    "# 1. Import dependencies\n",
    "# Update sklearn to prevent version mismatches\n",
    "#!pip install sklearn --upgrade"
   ]
  },
  {
   "cell_type": "code",
   "execution_count": 3,
   "metadata": {},
   "outputs": [
    {
     "name": "stdout",
     "output_type": "stream",
     "text": [
      "Requirement already satisfied: joblib in c:\\programdata\\anaconda3\\lib\\site-packages (0.13.2)\n"
     ]
    }
   ],
   "source": [
    "# install joblib. This will be used to save your model. \n",
    "# Restart your kernel after installing \n",
    "#!pip install joblib"
   ]
  },
  {
   "cell_type": "code",
   "execution_count": 4,
   "metadata": {},
   "outputs": [],
   "source": [
    "# Other dependencies\n",
    "from mpl_toolkits.mplot3d import Axes3D\n",
    "from sklearn.preprocessing import StandardScaler\n",
    "import matplotlib.pyplot as plt # plotting\n",
    "import numpy as np # linear algebra\n",
    "import os # accessing directory structure\n",
    "import pandas as pd # data processing, CSV file I/O (e.g. pd.read_csv)\n",
    "from scipy import stats\n",
    "import string as string\n",
    "import warnings\n",
    "warnings.filterwarnings('ignore')"
   ]
  },
  {
   "cell_type": "code",
   "execution_count": 5,
   "metadata": {},
   "outputs": [
    {
     "name": "stdout",
     "output_type": "stream",
     "text": [
      "There are 351 rows and 26 columns\n"
     ]
    }
   ],
   "source": [
    "csv_path = \"Data/CleanData_per_day.csv\"\n",
    "df = pd.read_csv(csv_path,   parse_dates=True)\n",
    "nRow, nCol = df.shape\n",
    "print(f'There are {nRow} rows and {nCol} columns')\n"
   ]
  },
  {
   "cell_type": "code",
   "execution_count": 6,
   "metadata": {},
   "outputs": [
    {
     "data": {
      "text/html": [
       "<div>\n",
       "<style scoped>\n",
       "    .dataframe tbody tr th:only-of-type {\n",
       "        vertical-align: middle;\n",
       "    }\n",
       "\n",
       "    .dataframe tbody tr th {\n",
       "        vertical-align: top;\n",
       "    }\n",
       "\n",
       "    .dataframe thead th {\n",
       "        text-align: right;\n",
       "    }\n",
       "</style>\n",
       "<table border=\"1\" class=\"dataframe\">\n",
       "  <thead>\n",
       "    <tr style=\"text-align: right;\">\n",
       "      <th></th>\n",
       "      <th>month</th>\n",
       "      <th>day</th>\n",
       "      <th>year</th>\n",
       "      <th>gen</th>\n",
       "      <th>use</th>\n",
       "      <th>House overall</th>\n",
       "      <th>Furnace</th>\n",
       "      <th>Home office</th>\n",
       "      <th>Living room</th>\n",
       "      <th>Wine cellar</th>\n",
       "      <th>...</th>\n",
       "      <th>Dishwasher</th>\n",
       "      <th>Temperature</th>\n",
       "      <th>Humidity</th>\n",
       "      <th>Visibility</th>\n",
       "      <th>ApparentTemperature</th>\n",
       "      <th>Pressure</th>\n",
       "      <th>WindSpeed</th>\n",
       "      <th>windBearing</th>\n",
       "      <th>Precip</th>\n",
       "      <th>DewPoint</th>\n",
       "    </tr>\n",
       "  </thead>\n",
       "  <tbody>\n",
       "    <tr>\n",
       "      <th>0</th>\n",
       "      <td>1</td>\n",
       "      <td>1</td>\n",
       "      <td>2016</td>\n",
       "      <td>18.026200</td>\n",
       "      <td>1366.269517</td>\n",
       "      <td>1366.269517</td>\n",
       "      <td>492.020017</td>\n",
       "      <td>64.668783</td>\n",
       "      <td>77.071667</td>\n",
       "      <td>29.093367</td>\n",
       "      <td>...</td>\n",
       "      <td>59.517171</td>\n",
       "      <td>40727.34</td>\n",
       "      <td>720.28</td>\n",
       "      <td>11125.60</td>\n",
       "      <td>33989.34</td>\n",
       "      <td>1156803.96</td>\n",
       "      <td>8420.92</td>\n",
       "      <td>300606</td>\n",
       "      <td>0.1276</td>\n",
       "      <td>27849.26</td>\n",
       "    </tr>\n",
       "    <tr>\n",
       "      <th>1</th>\n",
       "      <td>1</td>\n",
       "      <td>2</td>\n",
       "      <td>2016</td>\n",
       "      <td>76.051300</td>\n",
       "      <td>1851.521067</td>\n",
       "      <td>1851.521067</td>\n",
       "      <td>683.761967</td>\n",
       "      <td>145.570317</td>\n",
       "      <td>71.142950</td>\n",
       "      <td>24.096767</td>\n",
       "      <td>...</td>\n",
       "      <td>63.154404</td>\n",
       "      <td>45637.30</td>\n",
       "      <td>835.28</td>\n",
       "      <td>14333.36</td>\n",
       "      <td>35226.44</td>\n",
       "      <td>1460895.76</td>\n",
       "      <td>11733.58</td>\n",
       "      <td>380922</td>\n",
       "      <td>0.0000</td>\n",
       "      <td>26637.98</td>\n",
       "    </tr>\n",
       "    <tr>\n",
       "      <th>2</th>\n",
       "      <td>1</td>\n",
       "      <td>3</td>\n",
       "      <td>2016</td>\n",
       "      <td>74.081433</td>\n",
       "      <td>1651.128133</td>\n",
       "      <td>1651.128133</td>\n",
       "      <td>613.630533</td>\n",
       "      <td>196.064167</td>\n",
       "      <td>42.779250</td>\n",
       "      <td>32.989533</td>\n",
       "      <td>...</td>\n",
       "      <td>105.508668</td>\n",
       "      <td>47914.02</td>\n",
       "      <td>883.58</td>\n",
       "      <td>14400.00</td>\n",
       "      <td>38548.42</td>\n",
       "      <td>1453861.98</td>\n",
       "      <td>10967.42</td>\n",
       "      <td>327054</td>\n",
       "      <td>0.0000</td>\n",
       "      <td>30604.26</td>\n",
       "    </tr>\n",
       "    <tr>\n",
       "      <th>3</th>\n",
       "      <td>1</td>\n",
       "      <td>4</td>\n",
       "      <td>2016</td>\n",
       "      <td>108.525017</td>\n",
       "      <td>1500.686017</td>\n",
       "      <td>1500.686017</td>\n",
       "      <td>605.129767</td>\n",
       "      <td>180.650867</td>\n",
       "      <td>93.077467</td>\n",
       "      <td>20.980700</td>\n",
       "      <td>...</td>\n",
       "      <td>58.880760</td>\n",
       "      <td>32108.72</td>\n",
       "      <td>861.98</td>\n",
       "      <td>14119.28</td>\n",
       "      <td>15936.88</td>\n",
       "      <td>1463662.42</td>\n",
       "      <td>16165.70</td>\n",
       "      <td>460508</td>\n",
       "      <td>0.0000</td>\n",
       "      <td>14835.90</td>\n",
       "    </tr>\n",
       "    <tr>\n",
       "      <th>4</th>\n",
       "      <td>1</td>\n",
       "      <td>5</td>\n",
       "      <td>2016</td>\n",
       "      <td>148.107500</td>\n",
       "      <td>1597.968867</td>\n",
       "      <td>1597.968867</td>\n",
       "      <td>817.065250</td>\n",
       "      <td>133.360867</td>\n",
       "      <td>44.483650</td>\n",
       "      <td>30.792300</td>\n",
       "      <td>...</td>\n",
       "      <td>72.973254</td>\n",
       "      <td>17208.20</td>\n",
       "      <td>770.82</td>\n",
       "      <td>14394.78</td>\n",
       "      <td>3973.98</td>\n",
       "      <td>1489091.46</td>\n",
       "      <td>9592.18</td>\n",
       "      <td>419634</td>\n",
       "      <td>0.0000</td>\n",
       "      <td>-3292.16</td>\n",
       "    </tr>\n",
       "    <tr>\n",
       "      <th>5</th>\n",
       "      <td>1</td>\n",
       "      <td>6</td>\n",
       "      <td>2016</td>\n",
       "      <td>136.922033</td>\n",
       "      <td>1267.262700</td>\n",
       "      <td>1267.262700</td>\n",
       "      <td>685.990133</td>\n",
       "      <td>167.216517</td>\n",
       "      <td>47.648100</td>\n",
       "      <td>19.105800</td>\n",
       "      <td>...</td>\n",
       "      <td>0.140792</td>\n",
       "      <td>28765.20</td>\n",
       "      <td>825.10</td>\n",
       "      <td>14330.40</td>\n",
       "      <td>22724.60</td>\n",
       "      <td>1486863.08</td>\n",
       "      <td>5726.98</td>\n",
       "      <td>312532</td>\n",
       "      <td>0.0000</td>\n",
       "      <td>7985.04</td>\n",
       "    </tr>\n",
       "    <tr>\n",
       "      <th>6</th>\n",
       "      <td>1</td>\n",
       "      <td>7</td>\n",
       "      <td>2016</td>\n",
       "      <td>111.077217</td>\n",
       "      <td>1388.444150</td>\n",
       "      <td>1388.444150</td>\n",
       "      <td>568.106683</td>\n",
       "      <td>146.354700</td>\n",
       "      <td>75.690783</td>\n",
       "      <td>29.777033</td>\n",
       "      <td>...</td>\n",
       "      <td>68.746322</td>\n",
       "      <td>33599.04</td>\n",
       "      <td>895.74</td>\n",
       "      <td>14287.20</td>\n",
       "      <td>31265.42</td>\n",
       "      <td>1477864.54</td>\n",
       "      <td>3576.78</td>\n",
       "      <td>198706</td>\n",
       "      <td>0.0000</td>\n",
       "      <td>15923.34</td>\n",
       "    </tr>\n",
       "    <tr>\n",
       "      <th>7</th>\n",
       "      <td>1</td>\n",
       "      <td>8</td>\n",
       "      <td>2016</td>\n",
       "      <td>31.267217</td>\n",
       "      <td>1584.852233</td>\n",
       "      <td>1584.852233</td>\n",
       "      <td>630.874083</td>\n",
       "      <td>159.989967</td>\n",
       "      <td>69.618500</td>\n",
       "      <td>25.382883</td>\n",
       "      <td>...</td>\n",
       "      <td>62.607221</td>\n",
       "      <td>42463.28</td>\n",
       "      <td>1033.16</td>\n",
       "      <td>14205.98</td>\n",
       "      <td>35261.18</td>\n",
       "      <td>1475104.86</td>\n",
       "      <td>7083.10</td>\n",
       "      <td>52432</td>\n",
       "      <td>0.0000</td>\n",
       "      <td>30723.44</td>\n",
       "    </tr>\n",
       "    <tr>\n",
       "      <th>8</th>\n",
       "      <td>1</td>\n",
       "      <td>9</td>\n",
       "      <td>2016</td>\n",
       "      <td>27.691133</td>\n",
       "      <td>1303.707900</td>\n",
       "      <td>1303.707900</td>\n",
       "      <td>553.466300</td>\n",
       "      <td>113.336783</td>\n",
       "      <td>55.883617</td>\n",
       "      <td>26.653533</td>\n",
       "      <td>...</td>\n",
       "      <td>0.094325</td>\n",
       "      <td>54431.36</td>\n",
       "      <td>1148.64</td>\n",
       "      <td>12903.56</td>\n",
       "      <td>50012.22</td>\n",
       "      <td>1472674.60</td>\n",
       "      <td>6061.94</td>\n",
       "      <td>91426</td>\n",
       "      <td>0.0000</td>\n",
       "      <td>46180.16</td>\n",
       "    </tr>\n",
       "    <tr>\n",
       "      <th>9</th>\n",
       "      <td>1</td>\n",
       "      <td>10</td>\n",
       "      <td>2016</td>\n",
       "      <td>8.630967</td>\n",
       "      <td>1638.143817</td>\n",
       "      <td>1638.143817</td>\n",
       "      <td>448.871300</td>\n",
       "      <td>159.419217</td>\n",
       "      <td>89.310450</td>\n",
       "      <td>27.882550</td>\n",
       "      <td>...</td>\n",
       "      <td>59.463244</td>\n",
       "      <td>65328.62</td>\n",
       "      <td>1212.90</td>\n",
       "      <td>10617.86</td>\n",
       "      <td>60219.90</td>\n",
       "      <td>1442159.72</td>\n",
       "      <td>12076.34</td>\n",
       "      <td>219432</td>\n",
       "      <td>36.0238</td>\n",
       "      <td>58692.02</td>\n",
       "    </tr>\n",
       "    <tr>\n",
       "      <th>10</th>\n",
       "      <td>1</td>\n",
       "      <td>11</td>\n",
       "      <td>2016</td>\n",
       "      <td>80.069550</td>\n",
       "      <td>1595.681217</td>\n",
       "      <td>1595.681217</td>\n",
       "      <td>607.909200</td>\n",
       "      <td>142.965233</td>\n",
       "      <td>148.340450</td>\n",
       "      <td>31.303817</td>\n",
       "      <td>...</td>\n",
       "      <td>51.100655</td>\n",
       "      <td>37995.20</td>\n",
       "      <td>667.44</td>\n",
       "      <td>14378.54</td>\n",
       "      <td>25174.16</td>\n",
       "      <td>1457371.62</td>\n",
       "      <td>15447.82</td>\n",
       "      <td>388552</td>\n",
       "      <td>0.0000</td>\n",
       "      <td>11746.14</td>\n",
       "    </tr>\n",
       "    <tr>\n",
       "      <th>11</th>\n",
       "      <td>1</td>\n",
       "      <td>12</td>\n",
       "      <td>2016</td>\n",
       "      <td>56.725133</td>\n",
       "      <td>1566.298367</td>\n",
       "      <td>1566.298367</td>\n",
       "      <td>699.878833</td>\n",
       "      <td>156.496467</td>\n",
       "      <td>88.442467</td>\n",
       "      <td>22.200167</td>\n",
       "      <td>...</td>\n",
       "      <td>73.340703</td>\n",
       "      <td>37019.56</td>\n",
       "      <td>986.00</td>\n",
       "      <td>11865.90</td>\n",
       "      <td>28385.74</td>\n",
       "      <td>1452407.30</td>\n",
       "      <td>9427.36</td>\n",
       "      <td>279262</td>\n",
       "      <td>1.3862</td>\n",
       "      <td>23338.42</td>\n",
       "    </tr>\n",
       "  </tbody>\n",
       "</table>\n",
       "<p>12 rows × 26 columns</p>\n",
       "</div>"
      ],
      "text/plain": [
       "    month  day  year         gen          use  House overall     Furnace  \\\n",
       "0       1    1  2016   18.026200  1366.269517    1366.269517  492.020017   \n",
       "1       1    2  2016   76.051300  1851.521067    1851.521067  683.761967   \n",
       "2       1    3  2016   74.081433  1651.128133    1651.128133  613.630533   \n",
       "3       1    4  2016  108.525017  1500.686017    1500.686017  605.129767   \n",
       "4       1    5  2016  148.107500  1597.968867    1597.968867  817.065250   \n",
       "5       1    6  2016  136.922033  1267.262700    1267.262700  685.990133   \n",
       "6       1    7  2016  111.077217  1388.444150    1388.444150  568.106683   \n",
       "7       1    8  2016   31.267217  1584.852233    1584.852233  630.874083   \n",
       "8       1    9  2016   27.691133  1303.707900    1303.707900  553.466300   \n",
       "9       1   10  2016    8.630967  1638.143817    1638.143817  448.871300   \n",
       "10      1   11  2016   80.069550  1595.681217    1595.681217  607.909200   \n",
       "11      1   12  2016   56.725133  1566.298367    1566.298367  699.878833   \n",
       "\n",
       "    Home office  Living room  Wine cellar  ...  Dishwasher  Temperature  \\\n",
       "0     64.668783    77.071667    29.093367  ...   59.517171     40727.34   \n",
       "1    145.570317    71.142950    24.096767  ...   63.154404     45637.30   \n",
       "2    196.064167    42.779250    32.989533  ...  105.508668     47914.02   \n",
       "3    180.650867    93.077467    20.980700  ...   58.880760     32108.72   \n",
       "4    133.360867    44.483650    30.792300  ...   72.973254     17208.20   \n",
       "5    167.216517    47.648100    19.105800  ...    0.140792     28765.20   \n",
       "6    146.354700    75.690783    29.777033  ...   68.746322     33599.04   \n",
       "7    159.989967    69.618500    25.382883  ...   62.607221     42463.28   \n",
       "8    113.336783    55.883617    26.653533  ...    0.094325     54431.36   \n",
       "9    159.419217    89.310450    27.882550  ...   59.463244     65328.62   \n",
       "10   142.965233   148.340450    31.303817  ...   51.100655     37995.20   \n",
       "11   156.496467    88.442467    22.200167  ...   73.340703     37019.56   \n",
       "\n",
       "    Humidity  Visibility  ApparentTemperature    Pressure  WindSpeed  \\\n",
       "0     720.28    11125.60             33989.34  1156803.96    8420.92   \n",
       "1     835.28    14333.36             35226.44  1460895.76   11733.58   \n",
       "2     883.58    14400.00             38548.42  1453861.98   10967.42   \n",
       "3     861.98    14119.28             15936.88  1463662.42   16165.70   \n",
       "4     770.82    14394.78              3973.98  1489091.46    9592.18   \n",
       "5     825.10    14330.40             22724.60  1486863.08    5726.98   \n",
       "6     895.74    14287.20             31265.42  1477864.54    3576.78   \n",
       "7    1033.16    14205.98             35261.18  1475104.86    7083.10   \n",
       "8    1148.64    12903.56             50012.22  1472674.60    6061.94   \n",
       "9    1212.90    10617.86             60219.90  1442159.72   12076.34   \n",
       "10    667.44    14378.54             25174.16  1457371.62   15447.82   \n",
       "11    986.00    11865.90             28385.74  1452407.30    9427.36   \n",
       "\n",
       "    windBearing   Precip  DewPoint  \n",
       "0        300606   0.1276  27849.26  \n",
       "1        380922   0.0000  26637.98  \n",
       "2        327054   0.0000  30604.26  \n",
       "3        460508   0.0000  14835.90  \n",
       "4        419634   0.0000  -3292.16  \n",
       "5        312532   0.0000   7985.04  \n",
       "6        198706   0.0000  15923.34  \n",
       "7         52432   0.0000  30723.44  \n",
       "8         91426   0.0000  46180.16  \n",
       "9        219432  36.0238  58692.02  \n",
       "10       388552   0.0000  11746.14  \n",
       "11       279262   1.3862  23338.42  \n",
       "\n",
       "[12 rows x 26 columns]"
      ]
     },
     "execution_count": 6,
     "metadata": {},
     "output_type": "execute_result"
    }
   ],
   "source": [
    "df.head(12)"
   ]
  },
  {
   "cell_type": "code",
   "execution_count": 7,
   "metadata": {},
   "outputs": [
    {
     "data": {
      "text/plain": [
       "Index(['month', 'day', 'year', 'gen', 'use', 'House overall', 'Furnace',\n",
       "       'Home office', 'Living room', 'Wine cellar', 'Garage door', 'Kitchen',\n",
       "       'Barn', 'Well', 'Fridge', 'Microwave', 'Dishwasher', 'Temperature',\n",
       "       'Humidity', 'Visibility', 'ApparentTemperature', 'Pressure',\n",
       "       'WindSpeed', 'windBearing', 'Precip', 'DewPoint'],\n",
       "      dtype='object')"
      ]
     },
     "execution_count": 7,
     "metadata": {},
     "output_type": "execute_result"
    }
   ],
   "source": [
    "# Data Preparation\n",
    "df.columns\n",
    "#df.dtypes \n",
    "#CleanData.tail()"
   ]
  },
  {
   "cell_type": "code",
   "execution_count": 8,
   "metadata": {},
   "outputs": [],
   "source": [
    "inputdf = df.filter(items=[ 'month', 'day', 'year', 'gen', 'Furnace',\n",
    "                            'Home office', 'Living room', 'Wine cellar', 'Garage door', 'Kitchen',\n",
    "                            'Barn', 'Well', 'Fridge', 'Microwave', 'Dishwasher', 'Temperature',\n",
    "                            'Humidity', 'Visibility', 'ApparentTemperature', 'Pressure',\n",
    "                            'WindSpeed', 'windBearing', 'Precip', 'DewPoint'])"
   ]
  },
  {
   "cell_type": "code",
   "execution_count": 9,
   "metadata": {},
   "outputs": [
    {
     "data": {
      "text/plain": [
       "Index(['month', 'day', 'year', 'gen', 'Furnace', 'Home office', 'Living room',\n",
       "       'Wine cellar', 'Garage door', 'Kitchen', 'Barn', 'Well', 'Fridge',\n",
       "       'Microwave', 'Dishwasher', 'Temperature', 'Humidity', 'Visibility',\n",
       "       'ApparentTemperature', 'Pressure', 'WindSpeed', 'windBearing', 'Precip',\n",
       "       'DewPoint'],\n",
       "      dtype='object')"
      ]
     },
     "execution_count": 9,
     "metadata": {},
     "output_type": "execute_result"
    }
   ],
   "source": [
    "# Running RF with all the data to investigate the driving variables of energy efficiency at a 1min resolution\n",
    "#my_data.dtypes \n",
    "features=inputdf\n",
    "type(features)\n",
    "#features.iloc[:,5:].head(5)\n",
    "#features.head(5)\n",
    "#features.info()\n",
    "features.columns"
   ]
  },
  {
   "cell_type": "code",
   "execution_count": 10,
   "metadata": {},
   "outputs": [],
   "source": [
    "# Labels are the values we want to predict\n",
    "labels = np.array(features['gen'])\n",
    "# Remove the labels from the features\n",
    "# axis 1 refers to the columns\n",
    "features= features.drop('gen', axis = 1)\n",
    "# Saving feature names for later use\n",
    "feature_list = list(features.columns)\n",
    "# Convert to numpy array\n",
    "features = np.array(features)"
   ]
  },
  {
   "cell_type": "code",
   "execution_count": 11,
   "metadata": {},
   "outputs": [],
   "source": [
    "# Training and Testing Sets\n",
    "# Using Skicit-learn to split data into training and testing sets\n",
    "from sklearn.model_selection import train_test_split\n",
    "# Split the data into training and testing sets\n",
    "train_features, test_features, train_labels, test_labels = train_test_split(features, labels, test_size = 0.25, random_state = 100)"
   ]
  },
  {
   "cell_type": "code",
   "execution_count": 12,
   "metadata": {},
   "outputs": [
    {
     "name": "stdout",
     "output_type": "stream",
     "text": [
      "Training Features Shape: (263, 23)\n",
      "Training Labels Shape: (263,)\n",
      "Testing Features Shape: (88, 23)\n",
      "Testing Labels Shape: (88,)\n"
     ]
    }
   ],
   "source": [
    "print('Training Features Shape:', train_features.shape)\n",
    "print('Training Labels Shape:', train_labels.shape)\n",
    "print('Testing Features Shape:', test_features.shape)\n",
    "print('Testing Labels Shape:', test_labels.shape)"
   ]
  },
  {
   "cell_type": "code",
   "execution_count": 13,
   "metadata": {},
   "outputs": [
    {
     "name": "stdout",
     "output_type": "stream",
     "text": [
      "Average baseline error:  72091.54\n"
     ]
    }
   ],
   "source": [
    "# The baseline predictions are the historical averages\n",
    "baseline_preds = test_features[:, feature_list.index('Temperature')]\n",
    "# Baseline errors, and display average baseline error\n",
    "baseline_errors = abs(baseline_preds - test_labels)\n",
    "print('Average baseline error: ', round(np.mean(baseline_errors), 2))"
   ]
  },
  {
   "cell_type": "code",
   "execution_count": 14,
   "metadata": {},
   "outputs": [],
   "source": [
    "# Import the model we are using\n",
    "from sklearn.ensemble import RandomForestRegressor\n",
    "# Instantiate model with 10 decision trees\n",
    "#rf = RandomForestRegressor(n_estimators = 100, random_state = 100)\n",
    "rf = RandomForestRegressor(n_estimators = 100, random_state = 100)\n",
    "# Train the model on training data\n",
    "rf.fit(train_features, train_labels);"
   ]
  },
  {
   "cell_type": "code",
   "execution_count": 15,
   "metadata": {},
   "outputs": [
    {
     "name": "stdout",
     "output_type": "stream",
     "text": [
      "Mean Absolute Error: 42.08 degrees.\n"
     ]
    }
   ],
   "source": [
    "# Use the forest's predict method on the test data\n",
    "predictions = rf.predict(test_features)\n",
    "# Calculate the absolute errors\n",
    "errors = abs(predictions - test_labels)\n",
    "# Print out the mean absolute error (mae)\n",
    "print('Mean Absolute Error:', round(np.mean(errors), 2), 'degrees.')\n",
    "#Mean Absolute Error: 8453.46 degrees"
   ]
  },
  {
   "cell_type": "code",
   "execution_count": 16,
   "metadata": {},
   "outputs": [
    {
     "name": "stdout",
     "output_type": "stream",
     "text": [
      "Accuracy: 1.62 %.\n"
     ]
    }
   ],
   "source": [
    "# Calculate mean absolute percentage error (MAPE)\n",
    "mape = 100 * (errors / test_labels)\n",
    "# Calculate and display accuracy\n",
    "accuracy = 100 - np.mean(mape)\n",
    "print('Accuracy:', round(accuracy, 2), '%.')\n",
    "#Accuracy: 95.96 %.  "
   ]
  },
  {
   "cell_type": "code",
   "execution_count": 17,
   "metadata": {},
   "outputs": [],
   "source": [
    "# What are the top predictor variables that regulate power generated in a smarthome?\n",
    "# Import tools needed for visualization\n",
    "from sklearn.tree import export_graphviz\n",
    "import pydot\n",
    "# Pull out one tree from the forest\n",
    "tree = rf.estimators_[5]"
   ]
  },
  {
   "cell_type": "code",
   "execution_count": 18,
   "metadata": {},
   "outputs": [],
   "source": [
    "# Import tools needed for visualization\n",
    "from sklearn.tree import export_graphviz\n",
    "import pydot\n",
    "# Pull out one tree from the forest\n",
    "tree = rf.estimators_[5]"
   ]
  },
  {
   "cell_type": "code",
   "execution_count": 19,
   "metadata": {},
   "outputs": [
    {
     "name": "stdout",
     "output_type": "stream",
     "text": [
      "Variable: Temperature          Importance: 0.11\n",
      "Variable: ApparentTemperature  Importance: 0.09\n",
      "Variable: Garage door          Importance: 0.08\n",
      "Variable: Wine cellar          Importance: 0.07\n",
      "Variable: Humidity             Importance: 0.06\n",
      "Variable: Pressure             Importance: 0.06\n",
      "Variable: month                Importance: 0.05\n",
      "Variable: Home office          Importance: 0.05\n",
      "Variable: day                  Importance: 0.04\n",
      "Variable: Furnace              Importance: 0.04\n",
      "Variable: Well                 Importance: 0.04\n",
      "Variable: Visibility           Importance: 0.04\n",
      "Variable: Living room          Importance: 0.03\n",
      "Variable: Barn                 Importance: 0.03\n",
      "Variable: Fridge               Importance: 0.03\n",
      "Variable: Microwave            Importance: 0.03\n",
      "Variable: Dishwasher           Importance: 0.03\n",
      "Variable: windBearing          Importance: 0.03\n",
      "Variable: DewPoint             Importance: 0.03\n",
      "Variable: Kitchen              Importance: 0.02\n",
      "Variable: WindSpeed            Importance: 0.02\n",
      "Variable: Precip               Importance: 0.02\n",
      "Variable: year                 Importance: 0.0\n"
     ]
    }
   ],
   "source": [
    "# Get numerical feature importances\n",
    "importances = list(rf.feature_importances_)\n",
    "# List of tuples with variable and importance\n",
    "feature_importances = [(feature, round(importance, 2)) for feature, importance in zip(feature_list, importances)]\n",
    "# Sort the feature importances by most important first\n",
    "feature_importances = sorted(feature_importances, key = lambda x: x[1], reverse = True)\n",
    "# Print out the feature and importances \n",
    "[print('Variable: {:20} Importance: {}'.format(*pair)) for pair in feature_importances];"
   ]
  },
  {
   "cell_type": "code",
   "execution_count": 20,
   "metadata": {},
   "outputs": [
    {
     "name": "stdout",
     "output_type": "stream",
     "text": [
      "Mean Absolute Error: 49.96 degrees.\n",
      "Accuracy: -6.1 %.\n"
     ]
    }
   ],
   "source": [
    "# New random forest with only the two most important variables\n",
    "rf_most_important = RandomForestRegressor(n_estimators= 1000, random_state=1000)\n",
    "# Extract the two most important features\n",
    "important_indices = [feature_list.index('ApparentTemperature'), feature_list.index('Temperature')]\n",
    "train_important = train_features[:, important_indices]\n",
    "test_important = test_features[:, important_indices]\n",
    "# Train the random forest\n",
    "rf_most_important.fit(train_important, train_labels)\n",
    "# Make predictions and determine the error\n",
    "predictions = rf_most_important.predict(test_important)\n",
    "errors = abs(predictions - test_labels)\n",
    "# Display the performance metrics\n",
    "print('Mean Absolute Error:', round(np.mean(errors), 2), 'degrees.')\n",
    "mape = np.mean(100 * (errors / test_labels))\n",
    "accuracy = 100 - mape\n",
    "print('Accuracy:', round(accuracy, 2), '%.')\n",
    "\n",
    "#Note:\n",
    "#This tells us that temperature and dew point are the two most important variables to regulate generated energy "
   ]
  },
  {
   "cell_type": "code",
   "execution_count": 21,
   "metadata": {},
   "outputs": [
    {
     "data": {
      "image/png": "[encoded data removed]",
      "text/plain": [
       "<Figure size 432x288 with 1 Axes>"
      ]
     },
     "metadata": {},
     "output_type": "display_data"
    }
   ],
   "source": [
    "# Import matplotlib for plotting and use magic command for Jupyter Notebooks\n",
    "import matplotlib.pyplot as plt\n",
    "%matplotlib inline\n",
    "# Set the style\n",
    "plt.style.use('fivethirtyeight')\n",
    "# list of x locations for plotting\n",
    "x=sorted(feature_importances, key = lambda x: x[1], reverse = True)\n",
    "x_values = sorted(list(range(len(x))))\n",
    "\n",
    "#x_values = list(range(len(importances)))\n",
    "# Make a bar chart\n",
    "plt.bar(x_values, importances, orientation = 'vertical')\n",
    "# Tick labels for x axis\n",
    "plt.xticks(x_values, feature_list, rotation='vertical')\n",
    "# Axis labels and title\n",
    "plt.ylabel('Importance'); plt.xlabel('Variable'); plt.title('Variables of Importance');"
   ]
  },
  {
   "cell_type": "code",
   "execution_count": 22,
   "metadata": {},
   "outputs": [],
   "source": [
    "# Save the model\n",
    "#model.save(\"EnergyGenerated_trained.h5\")\n"
   ]
  },
  {
   "cell_type": "code",
   "execution_count": 23,
   "metadata": {},
   "outputs": [],
   "source": [
    "# Dates of training values\n",
    "# Use datetime for creating date objects for plotting\n",
    "import datetime\n",
    "# Dates of training values\n",
    "months = features[:, feature_list.index('month')]\n",
    "days = features[:, feature_list.index('day')]\n",
    "years = features[:, feature_list.index('year')]"
   ]
  },
  {
   "cell_type": "code",
   "execution_count": 24,
   "metadata": {},
   "outputs": [],
   "source": [
    "# List and then convert to datetime object\n",
    "dates = [str(int(year)) + '-' + str(int(month)) + '-' + str(int(day)) for year, month, day in zip(years, months, days)]\n",
    "dates = [datetime.datetime.strptime(date, '%Y-%m-%d') for date in dates]"
   ]
  },
  {
   "cell_type": "code",
   "execution_count": 25,
   "metadata": {},
   "outputs": [],
   "source": [
    "# Dataframe with true values and dates\n",
    "true_data = pd.DataFrame(data = {'date': dates, 'actual': labels})"
   ]
  },
  {
   "cell_type": "code",
   "execution_count": 26,
   "metadata": {},
   "outputs": [],
   "source": [
    "# Dates of predictions\n",
    "months = test_features[:, feature_list.index('month')]\n",
    "days = test_features[:, feature_list.index('day')]\n",
    "years = test_features[:, feature_list.index('year')]"
   ]
  },
  {
   "cell_type": "code",
   "execution_count": 27,
   "metadata": {},
   "outputs": [],
   "source": [
    "# Column of dates\n",
    "test_dates = [str(int(year)) + '-' + str(int(month)) + '-' + str(int(day)) for year, month, day in zip(years, months, days)]"
   ]
  },
  {
   "cell_type": "code",
   "execution_count": 28,
   "metadata": {},
   "outputs": [],
   "source": [
    "# Convert to datetime objects\n",
    "test_dates = [datetime.datetime.strptime(date, '%Y-%m-%d') for date in test_dates]"
   ]
  },
  {
   "cell_type": "code",
   "execution_count": 29,
   "metadata": {},
   "outputs": [],
   "source": [
    "# Dataframe with predictions and dates\n",
    "predictions_data = pd.DataFrame(data = {'date': test_dates, 'prediction': predictions})"
   ]
  },
  {
   "cell_type": "code",
   "execution_count": 30,
   "metadata": {},
   "outputs": [
    {
     "data": {
      "image/png": "[encoded data removed]",
      "text/plain": [
       "<Figure size 432x288 with 1 Axes>"
      ]
     },
     "metadata": {},
     "output_type": "display_data"
    }
   ],
   "source": [
    "# Plot the actual values\n",
    "plt.plot(true_data['date'], true_data['actual'], 'b-', label = 'actual')\n",
    "# Plot the predicted values\n",
    "plt.plot(predictions_data['date'], predictions_data['prediction'], 'ro', label = 'prediction')\n",
    "plt.xticks(rotation = '60'); \n",
    "plt.legend()\n",
    "# Graph labels\n",
    "plt.xlabel('Date'); plt.ylabel('Generated Energy'); plt.title('Actual and Predicted Values');"
   ]
  },
  {
   "cell_type": "code",
   "execution_count": 88,
   "metadata": {},
   "outputs": [
    {
     "data": {
      "text/plain": [
       "<function list.index(value, start=0, stop=9223372036854775807, /)>"
      ]
     },
     "execution_count": 88,
     "metadata": {},
     "output_type": "execute_result"
    }
   ],
   "source": [
    "feature_list.index"
   ]
  },
  {
   "cell_type": "code",
   "execution_count": 86,
   "metadata": {},
   "outputs": [
    {
     "ename": "ValueError",
     "evalue": "'gen' is not in list",
     "output_type": "error",
     "traceback": [
      "\u001b[1;31m---------------------------------------------------------------------------\u001b[0m",
      "\u001b[1;31mValueError\u001b[0m                                Traceback (most recent call last)",
      "\u001b[1;32m<ipython-input-86-45c5ef136790>\u001b[0m in \u001b[0;36m<module>\u001b[1;34m\u001b[0m\n\u001b[0;32m      1\u001b[0m \u001b[1;31m# Make the data accessible for plotting\u001b[0m\u001b[1;33m\u001b[0m\u001b[1;33m\u001b[0m\u001b[1;33m\u001b[0m\u001b[0m\n\u001b[1;32m----> 2\u001b[1;33m \u001b[0mtrue_data\u001b[0m\u001b[1;33m[\u001b[0m\u001b[1;34m'gen'\u001b[0m\u001b[1;33m]\u001b[0m \u001b[1;33m=\u001b[0m \u001b[0mfeatures\u001b[0m\u001b[1;33m[\u001b[0m\u001b[1;33m:\u001b[0m\u001b[1;33m,\u001b[0m \u001b[0mfeature_list\u001b[0m\u001b[1;33m.\u001b[0m\u001b[0mindex\u001b[0m\u001b[1;33m(\u001b[0m\u001b[1;34m'gen'\u001b[0m\u001b[1;33m)\u001b[0m\u001b[1;33m]\u001b[0m\u001b[1;33m\u001b[0m\u001b[1;33m\u001b[0m\u001b[0m\n\u001b[0m\u001b[0;32m      3\u001b[0m \u001b[1;31m#true_data['Temperature'] = features[:, feature_list.index('Temperature')]\u001b[0m\u001b[1;33m\u001b[0m\u001b[1;33m\u001b[0m\u001b[1;33m\u001b[0m\u001b[0m\n\u001b[0;32m      4\u001b[0m \u001b[1;31m#true_data['friend'] = features[:, feature_list.index('friend')]\u001b[0m\u001b[1;33m\u001b[0m\u001b[1;33m\u001b[0m\u001b[1;33m\u001b[0m\u001b[0m\n\u001b[0;32m      5\u001b[0m \u001b[1;31m# Plot all the data as lines\u001b[0m\u001b[1;33m\u001b[0m\u001b[1;33m\u001b[0m\u001b[1;33m\u001b[0m\u001b[0m\n",
      "\u001b[1;31mValueError\u001b[0m: 'gen' is not in list"
     ]
    }
   ],
   "source": [
    "# Make the data accessible for plotting\n",
    "true_data['gen'] = features[:, feature_list.index('gen')]\n",
    "#true_data['Temperature'] = features[:, feature_list.index('Temperature')]\n",
    "#true_data['friend'] = features[:, feature_list.index('friend')]\n",
    "# Plot all the data as lines\n",
    "plt.plot(true_data['date'], true_data['actual'], 'b-', label  = 'actual', alpha = 1.0)\n",
    "#plt.plot(true_data['date'], true_data[''], 'y-', label  = 'temp_1', alpha = 1.0)\n",
    "#plt.plot(true_data['date'], true_data['Temperature'], 'k-', label = 'Temperature', alpha = 0.8)\n",
    "#plt.plot(true_data['date'], true_data['Humidity'], 'r-', label = 'Humidity', alpha = 0.3)\n",
    "# Formatting plot\n",
    "plt.legend(); plt.xticks(rotation = '60');\n",
    "# Lables and title\n",
    "plt.xlabel('Date'); plt.ylabel('Maximum Temperature (F)'); plt.title('Actual Max Temp and Variables');"
   ]
  },
  {
   "cell_type": "code",
   "execution_count": null,
   "metadata": {},
   "outputs": [],
   "source": []
  }
 ],
 "metadata": {
  "kernelspec": {
   "display_name": "Python 3",
   "language": "python",
   "name": "python3"
  },
  "language_info": {
   "codemirror_mode": {
    "name": "ipython",
    "version": 3
   },
   "file_extension": ".py",
   "mimetype": "text/x-python",
   "name": "python",
   "nbconvert_exporter": "python",
   "pygments_lexer": "ipython3",
   "version": "3.7.3"
  }
 },
 "nbformat": 4,
 "nbformat_minor": 2
}
